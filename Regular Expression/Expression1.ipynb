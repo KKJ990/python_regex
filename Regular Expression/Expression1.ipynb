{
 "cells": [
  {
   "cell_type": "code",
   "execution_count": 50,
   "metadata": {},
   "outputs": [],
   "source": [
    "import re"
   ]
  },
  {
   "attachments": {},
   "cell_type": "markdown",
   "metadata": {},
   "source": [
    "패턴 정규식 컴파일"
   ]
  },
  {
   "cell_type": "code",
   "execution_count": 12,
   "metadata": {},
   "outputs": [
    {
     "name": "stdout",
     "output_type": "stream",
     "text": [
      "re.compile('ab*')\n",
      "<class 're.Pattern'>\n"
     ]
    }
   ],
   "source": [
    "p=re.compile('ab*')\n",
    "print(p)\n",
    "print(type(p)) "
   ]
  },
  {
   "attachments": {},
   "cell_type": "markdown",
   "metadata": {},
   "source": [
    "#### 정규식을 이용한 검색\n",
    "\n",
    " * ###### match()\t문자열의 처음부터 정규식과 매치되는지 조사한다.\n",
    "\n",
    " * ###### search()\t문자열 전체를 검색하여 정규식과 매치되는지 조사한다.\n",
    "\n",
    " * ###### findall()\t정규식과 매치되는 모든 문자열(substring)을 리스트로 리턴한다.\n",
    "\n",
    " * ###### finditer()\t정규식과 매치되는 모든 문자열(substring)을 반복 가능한 객체로 리턴한다.\n"
   ]
  },
  {
   "attachments": {},
   "cell_type": "markdown",
   "metadata": {},
   "source": [
    "#### match() 문자열 검색 a-z\n",
    "\n",
    "###### 문자열의 처음부터 정규식과 매치되는지 조사한다. a-z ==> 문자열 , 0-9 ==>숫자\n",
    "###### 정규식과 매치될때는 return match(객체) 한다 매치되지 않으면 return None\n",
    "\n",
    "\n",
    " * ###### group()\t매치된 문자열을 리턴한다. \n",
    " * ###### start()\t매치된 문자열의 시작 위치를 리턴한다.(index)   ======>> match 는 문자열의 0번째부터 정규식과 매칭을 하기때문에 start는 무조건 0\n",
    "\n",
    " * ###### end()\t매치된 문자열의 끝 위치를 리턴한다.(index)\n",
    " * ###### span()\t매치된 문자열의 (시작, 끝)에 해당하는 튜플을 리턴한다.(return tuple)"
   ]
  },
  {
   "cell_type": "code",
   "execution_count": 38,
   "metadata": {},
   "outputs": [],
   "source": [
    "p= re.compile('[a-z]+')"
   ]
  },
  {
   "cell_type": "code",
   "execution_count": 39,
   "metadata": {},
   "outputs": [
    {
     "name": "stdout",
     "output_type": "stream",
     "text": [
      "<re.Match object; span=(0, 6), match='python'>\n",
      "None\n",
      "None\n"
     ]
    }
   ],
   "source": [
    "match_true=p.match(\"python\")\n",
    "print(match_true)\n",
    "\n",
    "match_false01 =p.match(\"123456\")\n",
    "print(match_false01)\n",
    "\n",
    "match_false02 = p.match(\"3python\") \n",
    "print(match_false02)"
   ]
  },
  {
   "cell_type": "code",
   "execution_count": 46,
   "metadata": {},
   "outputs": [
    {
     "name": "stdout",
     "output_type": "stream",
     "text": [
      "python\n",
      "0\n",
      "6\n",
      "(0, 6)\n"
     ]
    }
   ],
   "source": [
    "print(match_true.group())\n",
    "print(match_true.start())\n",
    "print(match_true.end())\n",
    "print(match_true.span())"
   ]
  },
  {
   "attachments": {},
   "cell_type": "markdown",
   "metadata": {},
   "source": [
    "### Search()\n",
    "\n",
    "###### 문자열 처음부터 정규식과 매칭하는 match() 와는 다르게 문자열 전체를 검색하여 정규식과 매칭 (\"3python\")\n",
    "###### 동일하게 매칭이되면 return match 매칭안돼면 return None"
   ]
  },
  {
   "cell_type": "code",
   "execution_count": 18,
   "metadata": {},
   "outputs": [
    {
     "name": "stdout",
     "output_type": "stream",
     "text": [
      "<re.Match object; span=(0, 6), match='python'>\n",
      "<re.Match object; span=(1, 7), match='python'>\n",
      "None\n"
     ]
    }
   ],
   "source": [
    "search_true01 = p.search(\"python\")\n",
    "print(search_true01)\n",
    "\n",
    "search_true02 = p.search(\"3python\")\n",
    "print(search_true02)\n",
    "\n",
    "search_false01 = p.search(\"3333\")\n",
    "print(search_false01)\n"
   ]
  },
  {
   "attachments": {},
   "cell_type": "markdown",
   "metadata": {},
   "source": [
    "#### findAll()\n",
    "\n",
    "###### 정규식과 매치되는 모든 문자열(substring)을 리스트로 리턴한다.\n",
    "###### 정규식과 매치되면 return list 정규식과 매칭이 안되면 return []\n",
    "\n",
    "###### split 과 같은 느낌인데 차이점 조사중.... findAll()은 대문자를 인식 못함   \n",
    "##### ====================== 해결   =========================\n",
    "##### a-z는 소문자만 A-Z까지 해줘야지 대문자 인식"
   ]
  },
  {
   "cell_type": "code",
   "execution_count": 30,
   "metadata": {},
   "outputs": [
    {
     "name": "stdout",
     "output_type": "stream",
     "text": [
      "['ife', 'is', 'oo', 'short']\n",
      "[]\n",
      "['Life', 'is', 'too', 'short']\n"
     ]
    }
   ],
   "source": [
    "findAll_true=p.findall(\"Life is Too short\")\n",
    "print(findAll_true)\n",
    "\n",
    "\n",
    "findAll_false = p.findall(\"11111 22222 33333\")\n",
    "print(findAll_false)\n",
    "\n",
    "a=\"Life is too short\"\n",
    "a=a.split()\n",
    "print(a)\n",
    "\n"
   ]
  },
  {
   "attachments": {},
   "cell_type": "markdown",
   "metadata": {},
   "source": [
    "#### finditer()\n",
    "\n",
    "###### 정규식과 매치되는 모든 문자열(substring)을 반복 가능한 객체로 리턴한다.\n",
    "###### finditer는 findall과 동일하지만 그 결과로 반복 가능한 객체(iterator object)를 리턴한다. 그리고 반복 가능한 객체가 포함하는 각각의 요소는 match 객체이다.\n",
    "###### 매칭 안되면 [] 빈 list 반환\n"
   ]
  },
  {
   "cell_type": "code",
   "execution_count": 47,
   "metadata": {},
   "outputs": [
    {
     "name": "stdout",
     "output_type": "stream",
     "text": [
      "['ife', 'is', 'oo', 'short']\n",
      "<re.Match object; span=(1, 4), match='ife'>\n",
      "<re.Match object; span=(5, 7), match='is'>\n",
      "<re.Match object; span=(8, 11), match='too'>\n",
      "<re.Match object; span=(12, 17), match='short'>\n",
      "[]\n"
     ]
    }
   ],
   "source": [
    "finditer_true= p.finditer(\"Life is too short\")\n",
    "print(findAll_true)\n",
    "\n",
    "for result in finditer_true:\n",
    "    print(result)\n",
    "\n",
    "\n",
    "findAll_false_false = p.finditer(\"1111 2222 3333\")\n",
    "print(findAll_false)"
   ]
  },
  {
   "attachments": {},
   "cell_type": "markdown",
   "metadata": {},
   "source": [
    "#### 모듈 단위로 수행하기"
   ]
  },
  {
   "attachments": {},
   "cell_type": "markdown",
   "metadata": {},
   "source": [
    "###### p=re.compile('[a-z]+')\n",
    "###### m = p.match('python') 을\n",
    "\n",
    "\n",
    "###### m= re.match('[a-z]'+ 'python') 이렇게하면 컴파일과 match메서드를 한번에 수행가능\n",
    "\n",
    "\n",
    "\n",
    "\n"
   ]
  },
  {
   "attachments": {},
   "cell_type": "markdown",
   "metadata": {},
   "source": [
    "##### 컴파일 옵션\n",
    " * ###### DOTALL(S) - . 이 줄바꿈 문자를 포함하여 모든 문자와 매치할 수 있도록 한다.\n",
    " * ###### IGNORECASE(I) - 대소문자에 관계없이 매치할 수 있도록 한다.\n",
    " * ###### MULTILINE(M) - 여러줄과 매치할 수 있도록 한다. (^, $ 메타문자의 사용과 관계가 있는 옵션이다)\n",
    " * ###### VERBOSE(X) - verbose 모드를 사용할 수 있도록 한다. (정규식을 보기 편하게 만들수 있고 주석등을 사용할 수 있게된다.)\n",
    "\n",
    " ###### 옵션을 사용할 때는 re.DOTALL처럼 전체 옵션 이름을 써도 되고 re.S처럼 약어를 써도 된다."
   ]
  },
  {
   "attachments": {},
   "cell_type": "markdown",
   "metadata": {},
   "source": [
    "##### DOTALL, S\n",
    "\n",
    "###### . 메타 문자는 줄바꿈 문자(\\n)를 제외한 모든 문자와 매치되는 규칙이 있다. 만약 \\n 문자도 포함하여 매치하고 싶다면 re.DOTALL 또는 re.S 옵션을 사용해 정규식을 컴파일하면 된다.\n",
    "###### 보통 re.DOTALL 옵션은 여러 줄로 이루어진 문자열에서 줄바꿈 문자에 상관없이 검색할 때 많이 사용한다."
   ]
  },
  {
   "cell_type": "code",
   "execution_count": 57,
   "metadata": {},
   "outputs": [
    {
     "name": "stdout",
     "output_type": "stream",
     "text": [
      "None\n",
      "<re.Match object; span=(0, 3), match='a\\nb'>\n"
     ]
    }
   ],
   "source": [
    "p=re.compile('a.b')\n",
    "match_dotall_false = p.match('a\\nb')\n",
    "print(match_dotall_false)\n",
    "\n",
    "\n",
    "p=re.compile('a.b',re.DOTALL)\n",
    "match_dotall_true = p.match('a\\nb')\n",
    "print(match_dotall_true)\n"
   ]
  },
  {
   "attachments": {},
   "cell_type": "markdown",
   "metadata": {},
   "source": [
    "#### IGNORECASE, I\n",
    "\n",
    "###### 대소문자에 관계없이 매치할 수 있도록 한다. 위에 Match MarkDown 에서 언급한 A-Z안해도 됨!!\n",
    "###### [a-z]+ 정규식은 소문자만을 의미하지만 re.I 옵션으로 대소문자 구별 없이 매치된다."
   ]
  },
  {
   "cell_type": "code",
   "execution_count": 60,
   "metadata": {},
   "outputs": [
    {
     "name": "stdout",
     "output_type": "stream",
     "text": [
      "None\n",
      "<re.Match object; span=(0, 1), match='P'>\n"
     ]
    }
   ],
   "source": [
    "p=re.compile('[a-z]')\n",
    "match_ignorecase_false = p.match('PYTHON')\n",
    "print(match_ignorecase_false)\n",
    "\n",
    "\n",
    "p=re.compile('[a-z]',re.IGNORECASE)\n",
    "match_ignorecase_true = p.match('PYTHON')\n",
    "print(match_ignorecase_true)\n"
   ]
  },
  {
   "attachments": {},
   "cell_type": "markdown",
   "metadata": {},
   "source": [
    "#### MULTILINE, M\n",
    "\n",
    "###### re.MULTILINE 는 메타 문자인 ^, $와 연관된 옵션이다."
   ]
  },
  {
   "cell_type": "code",
   "execution_count": 66,
   "metadata": {},
   "outputs": [],
   "source": [
    "data= \"\"\"python one\n",
    "life is too short\n",
    "python two\n",
    "you need python\n",
    "python three\"\"\""
   ]
  },
  {
   "cell_type": "code",
   "execution_count": 70,
   "metadata": {},
   "outputs": [
    {
     "name": "stdout",
     "output_type": "stream",
     "text": [
      "['python o']\n",
      "['python o', 'python t', 'python t']\n"
     ]
    }
   ],
   "source": [
    "p=re.compile(\"^python\\s\\w\")\n",
    "match_multiline_false = p.findall(data)\n",
    "print(match_multiline_false)\n",
    "\n",
    "\n",
    "\n",
    "p=re.compile(\"^python\\s\\w\",re.MULTILINE)\n",
    "match_multiline_true = p.findall(data)\n",
    "print(match_multiline_true)"
   ]
  },
  {
   "attachments": {},
   "cell_type": "markdown",
   "metadata": {},
   "source": [
    "### VERBOSE(X)\n",
    "\n",
    "###### verbose 모드를 사용할 수 있도록 한다. (정규식을 보기 편하게 만들수 있고 주석등을 사용할 수 있게된다.) "
   ]
  },
  {
   "cell_type": "code",
   "execution_count": null,
   "metadata": {},
   "outputs": [],
   "source": [
    "charref = re.compile(r\"\"\"\n",
    " &[#]                # Start of a numeric entity reference\n",
    " (\n",
    "     0[0-7]+         # Octal form\n",
    "   | [0-9]+          # Decimal form\n",
    "   | x[0-9a-fA-F]+   # Hexadecimal form\n",
    " )\n",
    " ;                   # Trailing semicolon\n",
    "\"\"\", re.VERBOSE)"
   ]
  },
  {
   "attachments": {},
   "cell_type": "markdown",
   "metadata": {},
   "source": [
    "### 백슬래시 문제\n",
    "\n",
    "###### 정규 표현식을 파이썬에서 사용할 때 혼란을 주는 요소가 한 가지 있는데, 바로 백슬래시(\\)이다.\n",
    "\n",
    "###### 예를 들어 어떤 파일 안에 있는 \"\\section\" 문자열을 찾기 위한 정규식을 만든다고 가정해 보자.\n",
    "\n",
    "###### \\section\n",
    "###### 이 정규식은 \\s 문자가 whitespace로 해석되어 의도한 대로 매치가 이루어지지 않는다.\n",
    "\n",
    "###### 위 표현은 다음과 동일한 의미이다.\n",
    "\n",
    "###### [ \\t\\n\\r\\f\\v]ection\n",
    "###### 의도한 대로 매치하고 싶다면 다음과 같이 변경해야 한다.\n",
    "\n",
    "###### \\\\section\n",
    "###### 즉 위 정규식에서 사용한 \\ 문자가 문자열 자체임을 알려 주기 위해 백슬래시 2개를 사용하여 이스케이프 처리를 해야 한다."
   ]
  }
 ],
 "metadata": {
  "kernelspec": {
   "display_name": "Python 3",
   "language": "python",
   "name": "python3"
  },
  "language_info": {
   "codemirror_mode": {
    "name": "ipython",
    "version": 3
   },
   "file_extension": ".py",
   "mimetype": "text/x-python",
   "name": "python",
   "nbconvert_exporter": "python",
   "pygments_lexer": "ipython3",
   "version": "3.10.10"
  },
  "orig_nbformat": 4
 },
 "nbformat": 4,
 "nbformat_minor": 2
}
